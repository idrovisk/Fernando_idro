{
  "nbformat": 4,
  "nbformat_minor": 0,
  "metadata": {
    "colab": {
      "provenance": [],
      "authorship_tag": "ABX9TyM1hocxbyNVFiAL6PWwkYey",
      "include_colab_link": true
    },
    "kernelspec": {
      "name": "python3",
      "display_name": "Python 3"
    },
    "language_info": {
      "name": "python"
    }
  },
  "cells": [
    {
      "cell_type": "markdown",
      "metadata": {
        "id": "view-in-github",
        "colab_type": "text"
      },
      "source": [
        "<a href=\"https://colab.research.google.com/github/idrovisk/Fernando_idro/blob/Estudo/funcoes.ipynb\" target=\"_parent\"><img src=\"https://colab.research.google.com/assets/colab-badge.svg\" alt=\"Open In Colab\"/></a>"
      ]
    },
    {
      "cell_type": "code",
      "execution_count": 39,
      "metadata": {
        "colab": {
          "base_uri": "https://localhost:8080/"
        },
        "id": "sNjBfJtBNkx-",
        "outputId": "60a8bbbb-1e20-488f-be78-53512b47cac4"
      },
      "outputs": [
        {
          "output_type": "stream",
          "name": "stdout",
          "text": [
            "Digite um número: 2,1\n",
            "Isso não é um número inteiro. Tente novamente.\n",
            "Digite um número: 3\n",
            "False\n"
          ]
        }
      ],
      "source": [
        "num = input(\"Digite um número: \")\n",
        "\n",
        "while not num.isdigit():  # Verifica se a entrada não é um número inteiro\n",
        "    print(\"Isso não é um número inteiro. Tente novamente.\")\n",
        "    num = input(\"Digite um número: \")\n",
        "\n",
        "num = int(num)  # Converte a entrada para inteiro após a validação\n",
        "\n",
        "def function(num):\n",
        "    if num % 2 == 0:\n",
        "        par = True\n",
        "    else:\n",
        "        par = False\n",
        "    return par\n",
        "\n",
        "# Chama a função e armazena o resultado\n",
        "resultado = function(num)\n",
        "\n",
        "# Imprime o resultado\n",
        "print(resultado)  # Isso irá imprimir True se o número for par ou False se for ímpar\n",
        "\n",
        "\n",
        "\n"
      ]
    }
  ]
}