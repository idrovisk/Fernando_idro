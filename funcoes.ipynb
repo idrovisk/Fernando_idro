{
  "nbformat": 4,
  "nbformat_minor": 0,
  "metadata": {
    "colab": {
      "provenance": [],
      "authorship_tag": "ABX9TyPX5gmtRvA+ABbMn238FnBU",
      "include_colab_link": true
    },
    "kernelspec": {
      "name": "python3",
      "display_name": "Python 3"
    },
    "language_info": {
      "name": "python"
    }
  },
  "cells": [
    {
      "cell_type": "markdown",
      "metadata": {
        "id": "view-in-github",
        "colab_type": "text"
      },
      "source": [
        "<a href=\"https://colab.research.google.com/github/idrovisk/Fernando_idro/blob/Estudo/funcoes.ipynb\" target=\"_parent\"><img src=\"https://colab.research.google.com/assets/colab-badge.svg\" alt=\"Open In Colab\"/></a>"
      ]
    },
    {
      "cell_type": "code",
      "execution_count": 50,
      "metadata": {
        "colab": {
          "base_uri": "https://localhost:8080/"
        },
        "id": "sNjBfJtBNkx-",
        "outputId": "44c94900-6741-45a4-8334-b936b5f49387"
      },
      "outputs": [
        {
          "output_type": "stream",
          "name": "stdout",
          "text": [
            "Digite um numero:4\n",
            "o numero que você digitou não é primo\n"
          ]
        }
      ],
      "source": [
        "import math\n",
        "\n",
        "num = input(\"Digite um numero:\")\n",
        "while not num.isdigit() or int(num) <= 0:\n",
        "  print(\"O numero precisa ser inteiro e maior que 0(ZERO)\")\n",
        "  num = input(f\"Digite outro numero:\")\n",
        "\n",
        "\n",
        "num = int(num)\n",
        "\n",
        "def is_prime(num):\n",
        "\n",
        "    if num <= 1:\n",
        "        return False  # Números menores ou iguais a 1 não são primos\n",
        "    if num == 2:\n",
        "        return True   # 2 é o único número par que é primo\n",
        "    if num % 2 == 0:\n",
        "        return False  # Números pares maiores que 2 não são primos\n",
        "\n",
        "    for i in range(3, int(math.sqrt(num)) + 1, 2):  # Testa apenas números ímpares\n",
        "        if num % i == 0:\n",
        "            return False  # Encontrou um divisor, não é primo\n",
        "    return True  # Nenhum divisor encontrado, é primo\n",
        "\n",
        "\n",
        "resultado = is_prime(num)\n",
        "if (resultado == True):\n",
        "  print(f\"o {num} é um numero primo.\")\n",
        "else:\n",
        "    print(f\"o numero que você digitou não é primo\")\n"
      ]
    }
  ]
}