{
  "nbformat": 4,
  "nbformat_minor": 0,
  "metadata": {
    "colab": {
      "provenance": [],
      "authorship_tag": "ABX9TyNhiu/+p2Qn5yz3MrH++htu",
      "include_colab_link": true
    },
    "kernelspec": {
      "name": "python3",
      "display_name": "Python 3"
    },
    "language_info": {
      "name": "python"
    }
  },
  "cells": [
    {
      "cell_type": "markdown",
      "metadata": {
        "id": "view-in-github",
        "colab_type": "text"
      },
      "source": [
        "<a href=\"https://colab.research.google.com/github/idrovisk/Fernando_idro/blob/master/dicionario.ipynb\" target=\"_parent\"><img src=\"https://colab.research.google.com/assets/colab-badge.svg\" alt=\"Open In Colab\"/></a>"
      ]
    },
    {
      "cell_type": "code",
      "execution_count": 3,
      "metadata": {
        "colab": {
          "base_uri": "https://localhost:8080/"
        },
        "id": "sNjBfJtBNkx-",
        "outputId": "84b0f796-43e3-4fc4-a5e1-2c7da95ca4a6"
      },
      "outputs": [
        {
          "output_type": "stream",
          "name": "stdout",
          "text": [
            "a menina que roubava livros Markus Zusak\n",
            "titulo: a menina que roubava livros\n",
            "autor: Markus Zusak\n",
            "ano: 2005\n",
            "paginas: 552\n"
          ]
        }
      ],
      "source": [
        "livro={\"titulo\":\"a menina que roubava livros\",\"autor\":\"Markus Zusak\",\"ano\":\"2005\",\"genero\":\"Ficção\"}\n",
        "\n",
        "print(livro[\"titulo\"],livro[\"autor\"])  #print(f\"Título: {livro['titulo']}, Autor: {livro['autor']}\") forma mais bonitinha\n",
        "\n",
        "livro[\"paginas\"]=\"552\"\n",
        "del livro[\"genero\"]\n",
        "for chave, valor in livro.items():\n",
        "    print(f\"{chave}: {valor}\")"
      ]
    }
  ]
}