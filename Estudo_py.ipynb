{
  "nbformat": 4,
  "nbformat_minor": 0,
  "metadata": {
    "colab": {
      "provenance": [],
      "authorship_tag": "ABX9TyP0wWqQXwVSnbVwO2Mjjh+j",
      "include_colab_link": true
    },
    "kernelspec": {
      "name": "python3",
      "display_name": "Python 3"
    },
    "language_info": {
      "name": "python"
    }
  },
  "cells": [
    {
      "cell_type": "markdown",
      "metadata": {
        "id": "view-in-github",
        "colab_type": "text"
      },
      "source": [
        "<a href=\"https://colab.research.google.com/github/idrovisk/Fernando_idro/blob/master/Estudo_py.ipynb\" target=\"_parent\"><img src=\"https://colab.research.google.com/assets/colab-badge.svg\" alt=\"Open In Colab\"/></a>"
      ]
    },
    {
      "cell_type": "code",
      "execution_count": 18,
      "metadata": {
        "colab": {
          "base_uri": "https://localhost:8080/"
        },
        "id": "gyS_kgkYSqXF",
        "outputId": "2f19fbb2-ec3e-445e-8128-8e930ada3b94"
      },
      "outputs": [
        {
          "output_type": "stream",
          "name": "stdout",
          "text": [
            "Digite o primeiro cateto:4\n",
            "Digite o segundo cateto:5\n",
            "6.4031242374328485\n"
          ]
        }
      ],
      "source": [
        "import math\n",
        "\n",
        "while(True):\n",
        "  try:\n",
        "    a = float(input(\"Digite o primeiro cateto:\"))\n",
        "    b = float(input(\"Digite o segundo cateto:\"))\n",
        "\n",
        "    break\n",
        "  except:\n",
        "    print(f\"não é um numero: digite de novo:\")\n",
        "\n",
        "def hipo (a, b):\n",
        "  c = math.sqrt(a*a+b*b)\n",
        "  return c\n",
        "\n",
        "resultado = hipo(a,b)\n",
        "print(resultado)"
      ]
    }
  ]
}