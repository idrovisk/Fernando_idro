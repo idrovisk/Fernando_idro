{
  "nbformat": 4,
  "nbformat_minor": 0,
  "metadata": {
    "colab": {
      "provenance": [],
      "authorship_tag": "ABX9TyMSlr0gWKPRU38DDErH1Byi",
      "include_colab_link": true
    },
    "kernelspec": {
      "name": "python3",
      "display_name": "Python 3"
    },
    "language_info": {
      "name": "python"
    }
  },
  "cells": [
    {
      "cell_type": "markdown",
      "metadata": {
        "id": "view-in-github",
        "colab_type": "text"
      },
      "source": [
        "<a href=\"https://colab.research.google.com/github/idrovisk/Fernando_idro/blob/master/Estudo_py.ipynb\" target=\"_parent\"><img src=\"https://colab.research.google.com/assets/colab-badge.svg\" alt=\"Open In Colab\"/></a>"
      ]
    },
    {
      "cell_type": "code",
      "execution_count": 11,
      "metadata": {
        "colab": {
          "base_uri": "https://localhost:8080/"
        },
        "id": "gyS_kgkYSqXF",
        "outputId": "10568a4a-ab97-4e2f-b0c9-30a7c5d2c2b0"
      },
      "outputs": [
        {
          "output_type": "stream",
          "name": "stdout",
          "text": [
            "Nome João, Idade20, Altura1.8 metros\n",
            "Nome Paula, Idade19, Altura1.4 metros\n",
            "Nome João, Idade21, Altura1.8 metros\n"
          ]
        }
      ],
      "source": [
        "class Pessoa:\n",
        "  def __init__(self,nome,idade,altura):\n",
        "    self.nome = nome\n",
        "    self.idade  = idade\n",
        "    self.altura = altura\n",
        "\n",
        "  def descricao(self):\n",
        "    return f\"Nome {self.nome}, Idade{self.idade}, Altura{self.altura} metros\"\n",
        "\n",
        "  def aniversario(self):\n",
        "    self.idade +=1\n",
        "\n",
        "pessoa1 = Pessoa(\"João\", 20, 1.80)\n",
        "pessoa2 = Pessoa(\"Paula\", 19, 1.40)\n",
        "\n",
        "print(pessoa1.descricao())\n",
        "print(pessoa2.descricao())\n",
        "\n",
        "pessoa1.aniversario()\n",
        "print(pessoa1.descricao())"
      ]
    }
  ]
}