{
  "nbformat": 4,
  "nbformat_minor": 0,
  "metadata": {
    "colab": {
      "provenance": [],
      "authorship_tag": "ABX9TyPxC0TCIgGXF/vhAgd1MiUx",
      "include_colab_link": true
    },
    "kernelspec": {
      "name": "python3",
      "display_name": "Python 3"
    },
    "language_info": {
      "name": "python"
    }
  },
  "cells": [
    {
      "cell_type": "markdown",
      "metadata": {
        "id": "view-in-github",
        "colab_type": "text"
      },
      "source": [
        "<a href=\"https://colab.research.google.com/github/idrovisk/Fernando_idro/blob/master/Estudo_py.ipynb\" target=\"_parent\"><img src=\"https://colab.research.google.com/assets/colab-badge.svg\" alt=\"Open In Colab\"/></a>"
      ]
    },
    {
      "cell_type": "code",
      "execution_count": 3,
      "metadata": {
        "colab": {
          "base_uri": "https://localhost:8080/"
        },
        "id": "gyS_kgkYSqXF",
        "outputId": "01271b29-096b-4ddc-cea1-272d490b013b"
      },
      "outputs": [
        {
          "name": "stdout",
          "output_type": "stream",
          "text": [
            "Digite um numero inteiro.\n",
            "Digite um numero:2,1\n",
            "Erro:O valor inserido não é um número inteiro\n",
            "Digite um numero:x\n",
            "Erro:O valor inserido não é um número inteiro\n",
            "Digite um numero:?\n",
            "Erro:O valor inserido não é um número inteiro\n",
            "Digite um numero:2\n"
          ]
        }
      ],
      "source": [
        "\n",
        "print(\"Digite um numero inteiro.\")\n",
        "\n",
        "while True:\n",
        "  try:\n",
        "    num = int(input(\"Digite um numero:\"))\n",
        "    break\n",
        "  except ValueError:\n",
        "    print(f\"Erro:O valor inserido não é um número inteiro\")"
      ]
    }
  ]
}