{
  "nbformat": 4,
  "nbformat_minor": 0,
  "metadata": {
    "colab": {
      "provenance": [],
      "authorship_tag": "ABX9TyNeoKND0uLGpHYRRQC2T7/G",
      "include_colab_link": true
    },
    "kernelspec": {
      "name": "python3",
      "display_name": "Python 3"
    },
    "language_info": {
      "name": "python"
    }
  },
  "cells": [
    {
      "cell_type": "markdown",
      "metadata": {
        "id": "view-in-github",
        "colab_type": "text"
      },
      "source": [
        "<a href=\"https://colab.research.google.com/github/idrovisk/Fernando_idro/blob/Estudo/Exercicio.ipynb\" target=\"_parent\"><img src=\"https://colab.research.google.com/assets/colab-badge.svg\" alt=\"Open In Colab\"/></a>"
      ]
    },
    {
      "cell_type": "code",
      "execution_count": 13,
      "metadata": {
        "colab": {
          "base_uri": "https://localhost:8080/"
        },
        "id": "sNjBfJtBNkx-",
        "outputId": "eb27721c-0978-4a35-8feb-8438f9b71766"
      },
      "outputs": [
        {
          "output_type": "stream",
          "name": "stdout",
          "text": [
            "Meu nome é bruno, tenho 21 anos, e moro em Sorocaba \n",
            "True\n"
          ]
        }
      ],
      "source": [
        "dados_pessoais  = (\"bruno\", 21, \"Sorocaba\") #tupla com metade das informações\n",
        "contato = (\"40028922\",\"bruno@hotmail.com\")  #tupla com outra metade\n",
        "informacoes_completas = dados_pessoais  + contato #concatenação das duas tuplas agregando todas as informações em uma só\n",
        "nome, idade, cidade = dados_pessoais    #desempacotamento de informações\n",
        "print(f\"Meu nome é {nome}, tenho {idade} anos, e moro em {cidade} \")  #usa cada variavel que foi retirada da tupla\n",
        "print(\"bruno@hotmail.com\" in informacoes_completas) #verifica se o email esta presenta na tupla \"informacoes_completas\"\n",
        "\n",
        "#as informações são todas falsas e não representam nada e ninguem qualquer semelhança é mera coincidencia.\n",
        "\n",
        "\n"
      ]
    }
  ]
}