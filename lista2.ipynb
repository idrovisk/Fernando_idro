{
  "nbformat": 4,
  "nbformat_minor": 0,
  "metadata": {
    "colab": {
      "provenance": [],
      "authorship_tag": "ABX9TyPbWbuYsnvgBWq2st14+6A2",
      "include_colab_link": true
    },
    "kernelspec": {
      "name": "python3",
      "display_name": "Python 3"
    },
    "language_info": {
      "name": "python"
    }
  },
  "cells": [
    {
      "cell_type": "markdown",
      "metadata": {
        "id": "view-in-github",
        "colab_type": "text"
      },
      "source": [
        "<a href=\"https://colab.research.google.com/github/idrovisk/Fernando_idro/blob/master/lista2.ipynb\" target=\"_parent\"><img src=\"https://colab.research.google.com/assets/colab-badge.svg\" alt=\"Open In Colab\"/></a>"
      ]
    },
    {
      "cell_type": "code",
      "execution_count": 14,
      "metadata": {
        "colab": {
          "base_uri": "https://localhost:8080/"
        },
        "id": "sNjBfJtBNkx-",
        "outputId": "8f0beaf2-d4cd-4614-9324-f9ea516a548c"
      },
      "outputs": [
        {
          "output_type": "stream",
          "name": "stdout",
          "text": [
            "7.0\n",
            "Alice [9.5, 8.0]\n",
            "Bob [7.0, 6.5]\n",
            "Carlos [10.0, 9.5]\n"
          ]
        }
      ],
      "source": [
        "notas = [\n",
        "    [\"Alice\", 9.5, 8.0],\n",
        "    [\"Bob\", 7.0, 6.5],\n",
        "    [\"Carlos\", 10.0, 9.5]\n",
        "]\n",
        "\n",
        "elemento = notas[1][1]\n",
        "print(elemento)\n",
        "\n",
        "for aluno in notas:\n",
        "    nome = aluno[0]\n",
        "    notas_aluno = aluno[1:]\n",
        "    print(nome, notas_aluno)"
      ]
    }
  ]
}